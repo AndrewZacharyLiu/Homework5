{
 "cells": [
  {
   "cell_type": "code",
   "execution_count": 4,
   "id": "d998f2f7-82b9-403d-accd-9567c3f43059",
   "metadata": {},
   "outputs": [],
   "source": [
    "import math"
   ]
  },
  {
   "cell_type": "code",
   "execution_count": 13,
   "id": "696005f8-5d17-4f75-9402-7b224a2b6ea9",
   "metadata": {},
   "outputs": [],
   "source": [
    "def Poisson(λ,n):\n",
    "    return (pow(λ,n)*pow(math.e,-λ))/math.factorial(n)"
   ]
  },
  {
   "cell_type": "code",
   "execution_count": 14,
   "id": "139c8d35-7a14-4976-83d0-e803540d1d32",
   "metadata": {},
   "outputs": [
    {
     "data": {
      "text/plain": [
       "0.14622280813987562"
      ]
     },
     "execution_count": 14,
     "metadata": {},
     "output_type": "execute_result"
    }
   ],
   "source": [
    "Poisson(5,6)"
   ]
  },
  {
   "cell_type": "code",
   "execution_count": 15,
   "id": "ee4afea5-a9e3-4366-a2eb-c49cbb7a0666",
   "metadata": {},
   "outputs": [
    {
     "name": "stdout",
     "output_type": "stream",
     "text": [
      "3.4\n"
     ]
    }
   ],
   "source": [
    "#find expected value of chipmunk\n",
    "print((3+6+1+4+3)/5)"
   ]
  },
  {
   "cell_type": "markdown",
   "id": "f47dfab0-ae3e-4206-8b29-ec76d307e2bc",
   "metadata": {},
   "source": [
    "b. This distribution is most likely consistent with the Poisson process. Chipmunks only occur in discrete values, meaning that you wouldn't see a fraction of a chipmunk; they only occur in whole number values. Chipmunk most likely also act independently, meaning one chipmunk occurence doesn't influence other occurences. There aren't nearly enough trials, but it's possible to gather more daily chipmunk observations. We see how most data sets are 3 or 4, which is around the mean, and there is fewer data points further (6 and 1 chipmunks). This fits the bell-like shape of a Poisson distribution."
   ]
  },
  {
   "cell_type": "markdown",
   "id": "227e4da4-8674-4419-b02b-d45cf3f2a0aa",
   "metadata": {},
   "source": [
    "I would be concerned, but there isn't enough data points to make a conclusion about anything. There's not a 0 % chance of seeing 9 squirrels. It's also possible that there other factors we haven't considered, such as Saturday being a weekend and maybe the expected value of weekends is different. "
   ]
  },
  {
   "cell_type": "markdown",
   "id": "1db732cd-3bb9-452d-935c-6976f0ea1096",
   "metadata": {},
   "source": [
    "In the CMS, a lot of proton collision's don't lead to products that are interesting to us. There are many proton collisons that happen per second in the CMS. Proton collisons should be independent events. A possible Poisson process would be the distrubutions of \"successful\" proton collison that happen per second. "
   ]
  }
 ],
 "metadata": {
  "kernelspec": {
   "display_name": "Python 3 (ipykernel)",
   "language": "python",
   "name": "python3"
  },
  "language_info": {
   "codemirror_mode": {
    "name": "ipython",
    "version": 3
   },
   "file_extension": ".py",
   "mimetype": "text/x-python",
   "name": "python",
   "nbconvert_exporter": "python",
   "pygments_lexer": "ipython3",
   "version": "3.10.5"
  }
 },
 "nbformat": 4,
 "nbformat_minor": 5
}
